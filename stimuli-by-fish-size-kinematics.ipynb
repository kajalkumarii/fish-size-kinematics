{
 "cells": [
  {
   "cell_type": "code",
   "execution_count": null,
   "metadata": {},
   "outputs": [],
   "source": [
    "import h5py\n",
    "import pandas as pd\n",
    "import matplotlib.pyplot as plt\n",
    "import numpy as np"
   ]
  },
  {
   "cell_type": "code",
   "execution_count": null,
   "metadata": {},
   "outputs": [],
   "source": [
    "file_path = '/home/kkumari/PhD/data-analysis/fish-size-kinematics/fishSizeKin_hdf5_231128.mat'"
   ]
  },
  {
   "cell_type": "code",
   "execution_count": null,
   "metadata": {},
   "outputs": [],
   "source": [
    "# Load the file to check its structure\n",
    "with h5py.File(file_path, 'r') as file:\n",
    "    # Listing all the items in the file\n",
    "    items = list(file.items())\n",
    "\n",
    "items"
   ]
  },
  {
   "cell_type": "code",
   "execution_count": null,
   "metadata": {},
   "outputs": [],
   "source": [
    "# Function to convert HDF5 dataset to a numpy array\n",
    "def hdf5_to_array(hdf5_dataset):\n",
    "    if isinstance(hdf5_dataset, h5py.Dataset):  # Check if the item is a dataset\n",
    "        return hdf5_dataset[...]  # Convert to numpy array\n",
    "    return None\n",
    "\n",
    "# Extracting data from 'fdata' and 'brs'\n",
    "with h5py.File(file_path, 'r') as file:\n",
    "    # Extracting 'fdata' group data\n",
    "    fdata_group = file['fdata']\n",
    "    fdata_data = {name: hdf5_to_array(dataset) for name, dataset in fdata_group.items() if hdf5_to_array(dataset) is not None}\n",
    "\n",
    "    # Extracting 'brs' group data\n",
    "    brs_group = fdata_group['brs']\n",
    "    brs_data = {name: hdf5_to_array(dataset) for name, dataset in brs_group.items() if hdf5_to_array(dataset) is not None}\n",
    "\n",
    "    #Extracting 'gld' group data\n",
    "    gld_group = fdata_group['gld']\n",
    "    gld_data = {name: hdf5_to_array(dataset) for name, dataset in gld_group.items() if hdf5_to_array(dataset) is not None}\n",
    "\n",
    "# Creating a pandas DataFrame\n",
    "fdata_df = pd.DataFrame(fdata_data)\n",
    "brs_df = pd.DataFrame({name: data.squeeze() for name, data in brs_data.items()})\n",
    "gld_df = pd.DataFrame({name: data.squeeze() for name, data in gld_data.items()})\n",
    "\n",
    "\n",
    "fdata_df.head(), brs_df.head(), gld_df.head()   # Displaying the first few rows of each DataFrame\n"
   ]
  },
  {
   "cell_type": "code",
   "execution_count": null,
   "metadata": {},
   "outputs": [],
   "source": [
    "brs_df.angle # Plotting the 'angle' column of 'brs_df'"
   ]
  },
  {
   "cell_type": "code",
   "execution_count": null,
   "metadata": {},
   "outputs": [],
   "source": [
    "# Extracting unique fish identifiers\n",
    "unique_fish = brs_df['fish'].unique()\n",
    "unique_fish\n"
   ]
  },
  {
   "cell_type": "code",
   "execution_count": null,
   "metadata": {},
   "outputs": [],
   "source": [
    "# Setting up the plot\n",
    "plt.figure(figsize=(4, 2 * len(unique_fish)))\n",
    "# Looping through each fish to plot their angle histogram\n",
    "for i, fish in enumerate(unique_fish, 1):\n",
    "    plt.subplot(len(unique_fish), 1, i)\n",
    "    plt.hist(brs_df[brs_df['fish'] == fish]['angle'].dropna(), bins=100, alpha=0.7)\n",
    "    plt.title(f'Histogram of Angles for Fish {fish}')\n",
    "    plt.xlabel('Angle')\n",
    "    plt.ylabel('Frequency')\n",
    "\n",
    "plt.tight_layout()\n",
    "plt.show()\n"
   ]
  },
  {
   "cell_type": "code",
   "execution_count": null,
   "metadata": {},
   "outputs": [],
   "source": [
    "# Setting up the plot for radial histograms of angles\n",
    "fig, axs = plt.subplots(1, len(unique_fish), figsize=(5 * len(unique_fish), 5), subplot_kw=dict(polar=True) if len(unique_fish) > 1 else {})\n",
    "\n",
    "# Adjust axs to be a 1D array for uniform processing if there's only one fish\n",
    "if len(unique_fish) == 1:\n",
    "    axs = [axs]\n",
    "\n",
    "# Looping through each fish to plot their angle histograms\n",
    "for i, fish in enumerate(unique_fish):\n",
    "    # Selecting the data for the current fish\n",
    "    fish_data = brs_df[brs_df['fish'] == fish]\n",
    "\n",
    "    # Plotting the radial histogram for angles\n",
    "    ax = axs[i] if len(unique_fish) > 1 else axs[0]\n",
    "    angle_data = fish_data['angle'].dropna()\n",
    "    ax.hist(angle_data, bins=100, range=(-np.pi, np.pi), alpha=0.7)\n",
    "    ax.set_theta_zero_location('N')\n",
    "    ax.set_theta_direction(-1)\n",
    "    ax.set_title(f'Angles for Fish {fish}')\n",
    "\n",
    "plt.tight_layout()\n",
    "plt.show()\n"
   ]
  },
  {
   "cell_type": "code",
   "execution_count": null,
   "metadata": {},
   "outputs": [],
   "source": [
    "# Creating 2D heatmaps of the XY plane for each fish\n",
    "plt.figure(figsize=(5 * len(unique_fish), 5))\n",
    "\n",
    "for i, fish in enumerate(unique_fish):\n",
    "    plt.subplot(1, len(unique_fish), i + 1)\n",
    "    \n",
    "    # Selecting the data for the current fish\n",
    "    fish_data = brs_df[brs_df['fish'] == fish]\n",
    "\n",
    "    # Plotting the heatmap for XY coordinates\n",
    "    plt.hexbin(fish_data['x'], fish_data['y'], gridsize=50, cmap='viridis', mincnt=1)\n",
    "    plt.colorbar(label='Frequency')\n",
    "    plt.xlabel('X')\n",
    "    plt.ylabel('Y')\n",
    "    plt.title(f'XY Trajectory Heatmap for Fish {fish}')\n",
    "\n",
    "plt.tight_layout()\n",
    "plt.show()\n"
   ]
  },
  {
   "cell_type": "code",
   "execution_count": null,
   "metadata": {},
   "outputs": [],
   "source": [
    "from mpl_toolkits.mplot3d import Axes3D\n",
    "\n",
    "# Creating 3D scatter plots for the trajectories of each fish\n",
    "fig = plt.figure(figsize=(5 * len(unique_fish), 5))\n",
    "\n",
    "for i, fish in enumerate(unique_fish):\n",
    "    ax = fig.add_subplot(1, len(unique_fish), i + 1, projection='3d')\n",
    "    \n",
    "    # Selecting the data for the current fish\n",
    "    fish_data = brs_df[brs_df['fish'] == fish]\n",
    "\n",
    "    # Plotting the 3D scatter plot for XYZ coordinates\n",
    "    scatter = ax.scatter(fish_data['x'], fish_data['y'], fish_data['z'], c=fish_data['z'], cmap='viridis', marker='.')\n",
    "    ax.set_xlabel('X')\n",
    "    ax.set_ylabel('Y')\n",
    "    ax.set_zlabel('Z')\n",
    "    ax.set_title(f'3D Trajectory for Fish {fish}')\n",
    "    fig.colorbar(scatter, ax=ax, label='Z-value')\n",
    "\n",
    "plt.tight_layout()\n",
    "plt.show()\n"
   ]
  },
  {
   "cell_type": "code",
   "execution_count": null,
   "metadata": {},
   "outputs": [],
   "source": [
    "# Setting up the plot for stimuli type over time for each fish\n",
    "plt.figure(figsize=(12, 3 * len(unique_fish)))\n",
    "\n",
    "for i, fish in enumerate(unique_fish):\n",
    "    plt.subplot(len(unique_fish), 1, i + 1)\n",
    "    \n",
    "    # Selecting the data for the current fish\n",
    "    fish_data = brs_df[brs_df['fish'] == fish]\n",
    "\n",
    "    # Plotting stimuli type over time\n",
    "    plt.scatter(fish_data['ts'], fish_data['stim'], alpha=0.5, marker='.', s=10, c=fish_data['stim'], cmap='tab20')\n",
    "    plt.title(f'Stimuli Type Over Time for Fish {fish}')\n",
    "    plt.xlabel('Time')\n",
    "    plt.ylabel('Stimuli Type')\n",
    "\n",
    "plt.tight_layout()\n",
    "plt.show()\n"
   ]
  },
  {
   "cell_type": "code",
   "execution_count": null,
   "metadata": {},
   "outputs": [],
   "source": [
    "    # writing actual stim by adding correction factor\n",
    "temp = fish_data['stim'] -1 \n",
    "temp.unique()\n",
    "\n",
    "\n",
    "# round to 2 decimal places\n",
    "\n",
    "temp = temp.round(2)\n",
    "temp.unique()"
   ]
  },
  {
   "cell_type": "code",
   "execution_count": null,
   "metadata": {},
   "outputs": [],
   "source": [
    "# Setting up the plot for histograms of stimulus types for each fish\n",
    "plt.figure(figsize=(6, 3 * len(unique_fish)))\n",
    "\n",
    "for i, fish in enumerate(unique_fish):\n",
    "    plt.subplot(len(unique_fish), 1, i + 1)\n",
    "    \n",
    "    # Selecting the data for the current fish\n",
    "    fish_data = brs_df[brs_df['fish'] == fish]\n",
    "\n",
    "    minSz = fish_data['stim'].min()\n",
    "    maxSz = fish_data['stim'].max()\n",
    "    step = 0.1\n",
    "\n",
    "    mybins = np.arange(minSz , maxSz , step)\n",
    "\n",
    "    # Plotting histogram of stimulus types\n",
    "    plt.hist(temp.dropna(), alpha=0.7, edgecolor='black', bins=mybins)\n",
    "    plt.title(f'Histogram of Stimulus Types for Fish {fish}')\n",
    "    plt.xlabel('Stimulus Type')\n",
    "    plt.ylabel('Frequency')\n",
    "\n",
    "plt.tight_layout()\n",
    "plt.show()\n"
   ]
  },
  {
   "cell_type": "code",
   "execution_count": null,
   "metadata": {},
   "outputs": [],
   "source": [
    "# round mybins to 1 decimal place\n",
    "mybins = np.round(mybins, 2)\n",
    "mybins"
   ]
  },
  {
   "cell_type": "code",
   "execution_count": null,
   "metadata": {},
   "outputs": [],
   "source": []
  }
 ],
 "metadata": {
  "kernelspec": {
   "display_name": "Python 3",
   "language": "python",
   "name": "python3"
  },
  "language_info": {
   "codemirror_mode": {
    "name": "ipython",
    "version": 3
   },
   "file_extension": ".py",
   "mimetype": "text/x-python",
   "name": "python",
   "nbconvert_exporter": "python",
   "pygments_lexer": "ipython3",
   "version": "3.10.7"
  }
 },
 "nbformat": 4,
 "nbformat_minor": 2
}
