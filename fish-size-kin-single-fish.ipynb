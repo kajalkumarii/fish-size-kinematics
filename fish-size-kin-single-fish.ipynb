{
 "cells": [
  {
   "cell_type": "code",
   "execution_count": null,
   "metadata": {},
   "outputs": [],
   "source": [
    "import pandas as pd\n",
    "import numpy as np\n",
    "import matplotlib.pyplot as plt"
   ]
  },
  {
   "cell_type": "code",
   "execution_count": null,
   "metadata": {},
   "outputs": [],
   "source": [
    "\n",
    "# Replace 'path_to_file' with the actual file path\n",
    "path_to_file = '/home/kkumari/PhD/fish-data/fishSizeKinematics/2911vr3_1.csv'\n",
    "\n",
    "# Assuming the file is in a format that can be read by pandas (like CSV)\n",
    "data = pd.read_csv(path_to_file)\n",
    "\n",
    "# Set parameters\n",
    "fs = 100\n",
    "startT = 1 * 60\n",
    "endT = 110 * 60\n",
    "myFrames = np.arange(round(startT * fs), round(endT * fs))\n"
   ]
  },
  {
   "cell_type": "code",
   "execution_count": null,
   "metadata": {},
   "outputs": [],
   "source": [
    "fig2 = plt.figure()\n",
    "plt.figure()\n",
    "plt.plot(data['real_fish_x'][myFrames], data['real_fish_y'][myFrames], data['real_fish_z'][myFrames], 'o')\n",
    "plt.xlim([-.18, .18])\n",
    "plt.ylim([-.18, .18])\n",
    "# plt.zlim([-.1, 0])\n",
    "plt.gca().set_aspect('equal', adjustable='box')\n",
    "plt.show()\n"
   ]
  },
  {
   "cell_type": "markdown",
   "metadata": {},
   "source": []
  },
  {
   "cell_type": "code",
   "execution_count": null,
   "metadata": {},
   "outputs": [],
   "source": [
    "fig1 = plt.figure()\n",
    "plt.figure()\n",
    "plt.plot(data['Stim_Flag'][myFrames] - 1, 'o')\n",
    "plt.show()\n"
   ]
  },
  {
   "cell_type": "code",
   "execution_count": null,
   "metadata": {},
   "outputs": [],
   "source": [
    "\n",
    "step = 0.3\n",
    "minSz = 0.1\n",
    "maxSz = 1.9\n",
    "myBins = np.arange(minSz - (step / 2), maxSz + (step / 2) + step, step)\n",
    "\n",
    "fig0= plt.figure() \n",
    "plt.figure()\n",
    "plt.hist(data['Stim_Flag'][myFrames] - 1, bins=myBins)\n",
    "plt.show()"
   ]
  },
  {
   "cell_type": "code",
   "execution_count": null,
   "metadata": {},
   "outputs": [],
   "source": [
    "sizeIdx = np.round(data['Stim_Flag'] - 1, 2) == 0.7\n",
    "euclDist = lambda RF, VF: np.sqrt((RF[:, 0] - VF[:, 0]) ** 2 + (RF[:, 1] - VF[:, 1]) ** 2)\n",
    "sameDist = euclDist(np.array([data['real_fish_x'][sizeIdx], data['real_fish_y'][sizeIdx]]).T,\n",
    "                    np.array([data['osg_fish1_x'][sizeIdx], data['osg_fish1_y'][sizeIdx]]).T)\n",
    "\n",
    "oppIndex = np.round(data['Stim_Flag'] - 1, 2) == 1.9\n",
    "oppDist = euclDist(np.array([data['real_fish_x'][oppIndex], data['real_fish_y'][oppIndex]]).T,\n",
    "                   np.array([data['osg_fish1_x'][oppIndex], data['osg_fish1_y'][oppIndex]]).T)\n",
    "\n",
    "fig = plt.figure()\n",
    "plt.hist(oppDist[~np.isnan(oppDist)], 100, alpha=0.5, label='0.4')\n",
    "plt.hist(sameDist[~np.isnan(sameDist)], 100, alpha=0.5, label='1.9')\n",
    "plt.xlabel('Distance')\n",
    "plt.ylabel('Count')\n",
    "plt.legend()\n",
    "plt.show()\n"
   ]
  },
  {
   "cell_type": "code",
   "execution_count": null,
   "metadata": {},
   "outputs": [],
   "source": [
    "data.head()"
   ]
  },
  {
   "cell_type": "code",
   "execution_count": null,
   "metadata": {},
   "outputs": [],
   "source": [
    "sizes = [0.1, 0.4, 0.7, 1.0, 1.3, 1.6, 1.9]\n",
    "sizeDist = np.empty(len(sizes))\n",
    "sizeDist[:] = np.nan\n",
    "\n",
    "for i, size in enumerate(sizes):\n",
    "    sizeIdx = np.round(data['Stim_Flag'] - 1, 1) == size\n",
    "    dist = euclDist(np.array([data['real_fish_x'][sizeIdx], data['real_fish_y'][sizeIdx]]).T,\n",
    "                    np.array([data['osg_fish1_x'][sizeIdx], data['osg_fish1_y'][sizeIdx]]).T)\n",
    "    sizeDist[i] = np.nanmedian(dist)\n",
    "\n",
    "plt.figure()\n",
    "plt.plot(sizes, sizeDist)\n",
    "plt.show()\n"
   ]
  }
 ],
 "metadata": {
  "kernelspec": {
   "display_name": "Python 3",
   "language": "python",
   "name": "python3"
  },
  "language_info": {
   "codemirror_mode": {
    "name": "ipython",
    "version": 3
   },
   "file_extension": ".py",
   "mimetype": "text/x-python",
   "name": "python",
   "nbconvert_exporter": "python",
   "pygments_lexer": "ipython3",
   "version": "3.10.7"
  }
 },
 "nbformat": 4,
 "nbformat_minor": 2
}
